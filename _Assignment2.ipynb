{
 "cells": [
  {
   "cell_type": "code",
   "execution_count": 1,
   "id": "a6b49c41-2845-401c-b0b3-56f086c8f5ce",
   "metadata": {},
   "outputs": [],
   "source": [
    "# assignment solution "
   ]
  },
  {
   "cell_type": "code",
   "execution_count": 18,
   "id": "4a793106-cce1-471d-ac0c-4588ad92179e",
   "metadata": {},
   "outputs": [],
   "source": [
    "# Q1.\n",
    "\n",
    "# def keyword is used create a function in python.\n",
    "def oddfun(n):\n",
    "    l=[]\n",
    "    for i in range(n+1):\n",
    "        if i % 2 == 1:\n",
    "            l.append(i)\n",
    "    return \"list of odd numbers in the range from 1 to 25:\" , l"
   ]
  },
  {
   "cell_type": "code",
   "execution_count": 20,
   "id": "c0da191a-8c80-404c-a6cd-2d6c69410ed0",
   "metadata": {},
   "outputs": [
    {
     "data": {
      "text/plain": [
       "('list of odd numbers in the range from 1 to 25:',\n",
       " [1, 3, 5, 7, 9, 11, 13, 15, 17, 19, 21, 23, 25])"
      ]
     },
     "execution_count": 20,
     "metadata": {},
     "output_type": "execute_result"
    }
   ],
   "source": [
    "oddfun(25)"
   ]
  },
  {
   "cell_type": "code",
   "execution_count": null,
   "id": "bde30ca8-08fb-4cdb-ba54-03e0ebc28bbd",
   "metadata": {},
   "outputs": [],
   "source": [
    "# Q2.\n",
    "\n",
    "# We used *args and **kwargs in some function because sometimes we do not know how many data will be entered by the user so by using this we can be easily solve this problem.\n",
    "# and type of *args is tuple and type of **kwargs is dictionary.\n"
   ]
  },
  {
   "cell_type": "code",
   "execution_count": 23,
   "id": "2e1deea2-f3ea-49bd-b6aa-155dcae41c21",
   "metadata": {},
   "outputs": [],
   "source": [
    "# use of *args\n",
    "def new1(*args):\n",
    "    return args,args[::-1]"
   ]
  },
  {
   "cell_type": "code",
   "execution_count": 24,
   "id": "3f61da78-1dff-4993-af48-057a37f8f804",
   "metadata": {},
   "outputs": [
    {
     "data": {
      "text/plain": [
       "((1, 2, 3, 4), (4, 3, 2, 1))"
      ]
     },
     "execution_count": 24,
     "metadata": {},
     "output_type": "execute_result"
    }
   ],
   "source": [
    "new1(1,2,3,4)"
   ]
  },
  {
   "cell_type": "code",
   "execution_count": 25,
   "id": "fe92cb85-fb81-41bf-942c-d529a6f61953",
   "metadata": {},
   "outputs": [],
   "source": [
    "# use of **kwargs\n",
    "def new2(**kwargs):\n",
    "    return kwargs,kwargs.keys(),kwargs.values(),kwargs.items()"
   ]
  },
  {
   "cell_type": "code",
   "execution_count": 26,
   "id": "947d47cb-b128-4a8c-8647-0fe1caa7de2d",
   "metadata": {},
   "outputs": [
    {
     "data": {
      "text/plain": [
       "({'name': 'Himanshu',\n",
       "  'city': 'Gola',\n",
       "  'pincode': 252505,\n",
       "  'occupation': 'Aspiring'},\n",
       " dict_keys(['name', 'city', 'pincode', 'occupation']),\n",
       " dict_values(['Himanshu', 'Gola', 252505, 'Aspiring']),\n",
       " dict_items([('name', 'Himanshu'), ('city', 'Gola'), ('pincode', 252505), ('occupation', 'Aspiring')]))"
      ]
     },
     "execution_count": 26,
     "metadata": {},
     "output_type": "execute_result"
    }
   ],
   "source": [
    "new2(name=\"Himanshu\",city=\"Gola\",pincode=252505,occupation=\"Aspiring\")"
   ]
  },
  {
   "cell_type": "code",
   "execution_count": 42,
   "id": "94e26a06-756e-447d-9ae1-131f65864168",
   "metadata": {},
   "outputs": [],
   "source": [
    "# Q3.\n",
    "# An Iterator is an object that can be used to loop through collections, like ArrayList and HashSet.\n",
    "# In Python, an iterator is an object which implements the iterator protocol, which consist of the methods __iter__() and __next__() .\n",
    "\n",
    "#The iterator object is initialized using the iter() method. It uses the next() method for iteration.\n",
    "def elements(n):\n",
    "    l=[2,4,6,8,10,14,16,18,20]\n",
    "    c=0\n",
    "    while c<n:\n",
    "        yield l[c]\n",
    "        c+=1 \n",
    " \n"
   ]
  },
  {
   "cell_type": "code",
   "execution_count": 43,
   "id": "ecb02518-405f-4cb9-8b0e-4c0ace3e86b5",
   "metadata": {},
   "outputs": [],
   "source": [
    " c1=elements(5)"
   ]
  },
  {
   "cell_type": "code",
   "execution_count": 44,
   "id": "5727ed65-e245-40c7-9026-d544615804bf",
   "metadata": {},
   "outputs": [
    {
     "name": "stdout",
     "output_type": "stream",
     "text": [
      "2\n",
      "4\n",
      "6\n",
      "8\n",
      "10\n"
     ]
    }
   ],
   "source": [
    "for i in range(5):\n",
    "    print(next(c1))"
   ]
  },
  {
   "cell_type": "code",
   "execution_count": 45,
   "id": "58bc5f78-36d8-42ea-bd7c-c9c9f0f6c1ee",
   "metadata": {},
   "outputs": [
    {
     "name": "stdout",
     "output_type": "stream",
     "text": [
      "0\n",
      "1\n",
      "2\n"
     ]
    }
   ],
   "source": [
    "# Q4.\n",
    "#  a generator is a function that returns an iterator that produces a sequence of values when iterated over. \n",
    "#Generators are useful when we want to produce a large sequence of values, but we don't want to store all of them in memory at once.\n",
    "def my_generator(n):\n",
    "\n",
    "    # initialize counter\n",
    "    value = 0\n",
    "\n",
    "    # loop until counter is less than n\n",
    "    while value < n:\n",
    "\n",
    "        # produce the current value of the counter\n",
    "        yield value\n",
    "\n",
    "        # increment the counter\n",
    "        value += 1\n",
    "\n",
    "# iterate over the generator object produced by my_generator\n",
    "for value in my_generator(3):\n",
    "\n",
    "    # print each value produced by generator\n",
    "    print(value)"
   ]
  },
  {
   "cell_type": "code",
   "execution_count": 6,
   "id": "f06dab7e-0d10-419b-a2a1-1053d95a727a",
   "metadata": {},
   "outputs": [],
   "source": [
    " # Q5.\n",
    "def test(n):\n",
    "    for i in range(2,n):\n",
    "        t=1\n",
    "        for j in range(2,i):\n",
    "            if i % j==0:\n",
    "                t=0\n",
    "        if t:\n",
    "            yield i"
   ]
  },
  {
   "cell_type": "code",
   "execution_count": 12,
   "id": "72081043-491e-437a-bd56-5a10019e6171",
   "metadata": {},
   "outputs": [
    {
     "name": "stdin",
     "output_type": "stream",
     "text": [
      "Enter number less than 1000\n",
      " 100\n"
     ]
    }
   ],
   "source": [
    "n=int(input(\"Enter number less than 1000\\n\"))\n",
    "c3=iter(test(n))"
   ]
  },
  {
   "cell_type": "code",
   "execution_count": 13,
   "id": "3e33726b-ce01-4565-a8de-8f659a384022",
   "metadata": {},
   "outputs": [
    {
     "data": {
      "text/plain": [
       "generator"
      ]
     },
     "execution_count": 13,
     "metadata": {},
     "output_type": "execute_result"
    }
   ],
   "source": [
    "type(c3)"
   ]
  },
  {
   "cell_type": "code",
   "execution_count": 14,
   "id": "a6183337-aef2-46a4-b463-4740763108b2",
   "metadata": {},
   "outputs": [
    {
     "name": "stdout",
     "output_type": "stream",
     "text": [
      "2\n",
      "3\n",
      "5\n",
      "7\n",
      "11\n",
      "13\n",
      "17\n",
      "19\n",
      "23\n",
      "29\n",
      "31\n",
      "37\n",
      "41\n",
      "43\n",
      "47\n",
      "53\n",
      "59\n",
      "61\n",
      "67\n",
      "71\n"
     ]
    }
   ],
   "source": [
    "for i in range(20):\n",
    "    print(next(c3))"
   ]
  },
  {
   "cell_type": "code",
   "execution_count": 15,
   "id": "eecd789d-742c-4237-98f1-f9c79e2566d0",
   "metadata": {},
   "outputs": [],
   "source": [
    "# Q6.\n",
    "# Print Fibonacci numbernumber's \n",
    "def fib():\n",
    "    a,b=0,1\n",
    "    while(1):\n",
    "        yield a\n",
    "        a,b=b,a+b"
   ]
  },
  {
   "cell_type": "code",
   "execution_count": 16,
   "id": "615269dc-8c92-4479-8969-4b8342d579b6",
   "metadata": {},
   "outputs": [],
   "source": [
    "x=fib()"
   ]
  },
  {
   "cell_type": "code",
   "execution_count": 17,
   "id": "9c1a8d17-d0d7-4795-9920-ab75b26c3fab",
   "metadata": {},
   "outputs": [
    {
     "name": "stdout",
     "output_type": "stream",
     "text": [
      "0\n",
      "1\n",
      "1\n",
      "2\n",
      "3\n",
      "5\n",
      "8\n",
      "13\n",
      "21\n",
      "34\n"
     ]
    }
   ],
   "source": [
    "for i in range(10):\n",
    "    print(next(x))"
   ]
  },
  {
   "cell_type": "code",
   "execution_count": 18,
   "id": "4a22281a-6ab3-4182-b05d-0c891e7df63a",
   "metadata": {},
   "outputs": [
    {
     "data": {
      "text/plain": [
       "['p', 'w', 's', 'k', 'i', 'l', 'l', 's']"
      ]
     },
     "execution_count": 18,
     "metadata": {},
     "output_type": "execute_result"
    }
   ],
   "source": [
    "#Q7.\n",
    "# List Comprehension to iterate\n",
    "s=\"pwskills\"\n",
    "[i for i in s]"
   ]
  },
  {
   "cell_type": "code",
   "execution_count": 20,
   "id": "4eb19214-7c7a-4bfe-9d4e-e20a632e928a",
   "metadata": {},
   "outputs": [
    {
     "name": "stdin",
     "output_type": "stream",
     "text": [
      "Enter the number to check it is palindrome or not\n",
      " 123321\n"
     ]
    },
    {
     "name": "stdout",
     "output_type": "stream",
     "text": [
      "yes, it is a palindrome number\n"
     ]
    }
   ],
   "source": [
    "# Q8.\n",
    "# check number is palindrome or not\n",
    "n=int(input(\"Enter the number to check it is palindrome or not\\n\"))\n",
    "a=n\n",
    "rev=0\n",
    "while(a>0):\n",
    "    rem=a%10\n",
    "    rev=rev*10+rem\n",
    "    a=a//10\n",
    "if rev==n:\n",
    "    print(\"yes, it is a palindrome number\")\n",
    "else:\n",
    "    print(\"No, it is a palindrome number\")\n",
    "    "
   ]
  },
  {
   "cell_type": "code",
   "execution_count": 21,
   "id": "fa105898-7c08-4969-85c9-dc70fd2b6f48",
   "metadata": {},
   "outputs": [
    {
     "data": {
      "text/plain": [
       "[1,\n",
       " 3,\n",
       " 5,\n",
       " 7,\n",
       " 9,\n",
       " 11,\n",
       " 13,\n",
       " 15,\n",
       " 17,\n",
       " 19,\n",
       " 21,\n",
       " 23,\n",
       " 25,\n",
       " 27,\n",
       " 29,\n",
       " 31,\n",
       " 33,\n",
       " 35,\n",
       " 37,\n",
       " 39,\n",
       " 41,\n",
       " 43,\n",
       " 45,\n",
       " 47,\n",
       " 49,\n",
       " 51,\n",
       " 53,\n",
       " 55,\n",
       " 57,\n",
       " 59,\n",
       " 61,\n",
       " 63,\n",
       " 65,\n",
       " 67,\n",
       " 69,\n",
       " 71,\n",
       " 73,\n",
       " 75,\n",
       " 77,\n",
       " 79,\n",
       " 81,\n",
       " 83,\n",
       " 85,\n",
       " 87,\n",
       " 89,\n",
       " 91,\n",
       " 93,\n",
       " 95,\n",
       " 97,\n",
       " 99]"
      ]
     },
     "execution_count": 21,
     "metadata": {},
     "output_type": "execute_result"
    }
   ],
   "source": [
    "# Q9.\n",
    "[i for i in range(1,100) if i%2==1]"
   ]
  },
  {
   "cell_type": "code",
   "execution_count": null,
   "id": "c87822d5-9420-43dd-9539-61c60e15eb50",
   "metadata": {},
   "outputs": [],
   "source": []
  }
 ],
 "metadata": {
  "kernelspec": {
   "display_name": "Python 3 (ipykernel)",
   "language": "python",
   "name": "python3"
  },
  "language_info": {
   "codemirror_mode": {
    "name": "ipython",
    "version": 3
   },
   "file_extension": ".py",
   "mimetype": "text/x-python",
   "name": "python",
   "nbconvert_exporter": "python",
   "pygments_lexer": "ipython3",
   "version": "3.10.8"
  }
 },
 "nbformat": 4,
 "nbformat_minor": 5
}
